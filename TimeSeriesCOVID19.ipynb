{
 "cells": [
  {
   "cell_type": "markdown",
   "metadata": {},
   "source": [
    "# Comparing time series predictions of COVID-19 deaths"
   ]
  },
  {
   "cell_type": "markdown",
   "metadata": {},
   "source": [
    "\n",
    "![Comparison](Comparison.png)"
   ]
  },
  {
   "cell_type": "code",
   "execution_count": 3,
   "metadata": {},
   "outputs": [
    {
     "name": "stderr",
     "output_type": "stream",
     "text": [
      "Matplotlib created a temporary config/cache directory at /home/rhyme/.config/matplotlib because the default path (/tmp/matplotlib-9m3s95hd) is not a writable directory; it is highly recommended to set the MPLCONFIGDIR environment variable to a writable directory, in particular to speed up the import of Matplotlib and to better support multiprocessing.\n",
      "Matplotlib is building the font cache; this may take a moment.\n",
      "Importing plotly failed. Interactive plots will not work.\n"
     ]
    }
   ],
   "source": [
    "import pmdarima as pm\n",
    "from statsmodels.tsa.seasonal import seasonal_decompose\n",
    "from sklearn.model_selection import TimeSeriesSplit\n",
    "import pandas as pd\n",
    "import numpy as np\n",
    "import datetime\n",
    "import requests\n",
    "import warnings\n",
    "\n",
    "import matplotlib.pyplot as plt\n",
    "import matplotlib\n",
    "import matplotlib.dates as mdates\n",
    "\n",
    "from xgboost import XGBRegressor\n",
    "from sklearn.ensemble import RandomForestRegressor\n",
    "from sklearn.metrics import mean_squared_error, mean_absolute_error\n",
    "from sklearn.preprocessing import OrdinalEncoder\n",
    "from sklearn.svm import SVR\n",
    "from sklearn.model_selection import train_test_split\n",
    "from statsmodels.tsa.statespace.sarimax import SARIMAX\n",
    "from statsmodels.tsa.arima_model import ARIMA\n",
    "from sklearn.preprocessing import StandardScaler\n",
    "from fbprophet import Prophet\n",
    "from fbprophet.plot import plot_plotly, add_changepoints_to_plot\n",
    "from keras.models import Sequential\n",
    "from keras.layers import Dense\n",
    "\n",
    "from keras.optimizers import Adam\n",
    "\n",
    "warnings.filterwarnings('ignore')\n"
   ]
  },
  {
   "cell_type": "markdown",
   "metadata": {},
   "source": [
    "# Task 1: Open the data and prepare the dataset data frame"
   ]
  },
  {
   "cell_type": "code",
   "execution_count": 4,
   "metadata": {},
   "outputs": [],
   "source": [
    "deaths_df = pd.read_csv('time_series_covid19_deaths_global.csv')"
   ]
  },
  {
   "cell_type": "markdown",
   "metadata": {},
   "source": [
    "First, get the data for the daily deaths in all countries in the report"
   ]
  },
  {
   "cell_type": "code",
   "execution_count": 6,
   "metadata": {},
   "outputs": [
    {
     "data": {
      "text/html": [
       "<div>\n",
       "<style scoped>\n",
       "    .dataframe tbody tr th:only-of-type {\n",
       "        vertical-align: middle;\n",
       "    }\n",
       "\n",
       "    .dataframe tbody tr th {\n",
       "        vertical-align: top;\n",
       "    }\n",
       "\n",
       "    .dataframe thead th {\n",
       "        text-align: right;\n",
       "    }\n",
       "</style>\n",
       "<table border=\"1\" class=\"dataframe\">\n",
       "  <thead>\n",
       "    <tr style=\"text-align: right;\">\n",
       "      <th></th>\n",
       "      <th>1/22/20</th>\n",
       "      <th>1/23/20</th>\n",
       "      <th>1/24/20</th>\n",
       "      <th>1/25/20</th>\n",
       "      <th>1/26/20</th>\n",
       "      <th>1/27/20</th>\n",
       "      <th>1/28/20</th>\n",
       "      <th>1/29/20</th>\n",
       "      <th>1/30/20</th>\n",
       "      <th>1/31/20</th>\n",
       "      <th>...</th>\n",
       "      <th>8/7/20</th>\n",
       "      <th>8/8/20</th>\n",
       "      <th>8/9/20</th>\n",
       "      <th>8/10/20</th>\n",
       "      <th>8/11/20</th>\n",
       "      <th>8/12/20</th>\n",
       "      <th>8/13/20</th>\n",
       "      <th>8/14/20</th>\n",
       "      <th>8/15/20</th>\n",
       "      <th>8/16/20</th>\n",
       "    </tr>\n",
       "  </thead>\n",
       "  <tbody>\n",
       "    <tr>\n",
       "      <th>0</th>\n",
       "      <td>0</td>\n",
       "      <td>0</td>\n",
       "      <td>0</td>\n",
       "      <td>0</td>\n",
       "      <td>0</td>\n",
       "      <td>0</td>\n",
       "      <td>0</td>\n",
       "      <td>0</td>\n",
       "      <td>0</td>\n",
       "      <td>0</td>\n",
       "      <td>...</td>\n",
       "      <td>1307</td>\n",
       "      <td>1312</td>\n",
       "      <td>1312</td>\n",
       "      <td>1328</td>\n",
       "      <td>1344</td>\n",
       "      <td>1354</td>\n",
       "      <td>1363</td>\n",
       "      <td>1363</td>\n",
       "      <td>1370</td>\n",
       "      <td>1375</td>\n",
       "    </tr>\n",
       "    <tr>\n",
       "      <th>1</th>\n",
       "      <td>0</td>\n",
       "      <td>0</td>\n",
       "      <td>0</td>\n",
       "      <td>0</td>\n",
       "      <td>0</td>\n",
       "      <td>0</td>\n",
       "      <td>0</td>\n",
       "      <td>0</td>\n",
       "      <td>0</td>\n",
       "      <td>0</td>\n",
       "      <td>...</td>\n",
       "      <td>189</td>\n",
       "      <td>193</td>\n",
       "      <td>199</td>\n",
       "      <td>200</td>\n",
       "      <td>205</td>\n",
       "      <td>208</td>\n",
       "      <td>213</td>\n",
       "      <td>219</td>\n",
       "      <td>225</td>\n",
       "      <td>228</td>\n",
       "    </tr>\n",
       "    <tr>\n",
       "      <th>2</th>\n",
       "      <td>0</td>\n",
       "      <td>0</td>\n",
       "      <td>0</td>\n",
       "      <td>0</td>\n",
       "      <td>0</td>\n",
       "      <td>0</td>\n",
       "      <td>0</td>\n",
       "      <td>0</td>\n",
       "      <td>0</td>\n",
       "      <td>0</td>\n",
       "      <td>...</td>\n",
       "      <td>1282</td>\n",
       "      <td>1293</td>\n",
       "      <td>1302</td>\n",
       "      <td>1312</td>\n",
       "      <td>1322</td>\n",
       "      <td>1333</td>\n",
       "      <td>1341</td>\n",
       "      <td>1351</td>\n",
       "      <td>1360</td>\n",
       "      <td>1370</td>\n",
       "    </tr>\n",
       "    <tr>\n",
       "      <th>3</th>\n",
       "      <td>0</td>\n",
       "      <td>0</td>\n",
       "      <td>0</td>\n",
       "      <td>0</td>\n",
       "      <td>0</td>\n",
       "      <td>0</td>\n",
       "      <td>0</td>\n",
       "      <td>0</td>\n",
       "      <td>0</td>\n",
       "      <td>0</td>\n",
       "      <td>...</td>\n",
       "      <td>52</td>\n",
       "      <td>52</td>\n",
       "      <td>52</td>\n",
       "      <td>52</td>\n",
       "      <td>52</td>\n",
       "      <td>53</td>\n",
       "      <td>53</td>\n",
       "      <td>53</td>\n",
       "      <td>53</td>\n",
       "      <td>53</td>\n",
       "    </tr>\n",
       "    <tr>\n",
       "      <th>4</th>\n",
       "      <td>0</td>\n",
       "      <td>0</td>\n",
       "      <td>0</td>\n",
       "      <td>0</td>\n",
       "      <td>0</td>\n",
       "      <td>0</td>\n",
       "      <td>0</td>\n",
       "      <td>0</td>\n",
       "      <td>0</td>\n",
       "      <td>0</td>\n",
       "      <td>...</td>\n",
       "      <td>67</td>\n",
       "      <td>70</td>\n",
       "      <td>75</td>\n",
       "      <td>78</td>\n",
       "      <td>80</td>\n",
       "      <td>80</td>\n",
       "      <td>80</td>\n",
       "      <td>86</td>\n",
       "      <td>86</td>\n",
       "      <td>88</td>\n",
       "    </tr>\n",
       "  </tbody>\n",
       "</table>\n",
       "<p>5 rows × 208 columns</p>\n",
       "</div>"
      ],
      "text/plain": [
       "   1/22/20  1/23/20  1/24/20  1/25/20  1/26/20  1/27/20  1/28/20  1/29/20  \\\n",
       "0        0        0        0        0        0        0        0        0   \n",
       "1        0        0        0        0        0        0        0        0   \n",
       "2        0        0        0        0        0        0        0        0   \n",
       "3        0        0        0        0        0        0        0        0   \n",
       "4        0        0        0        0        0        0        0        0   \n",
       "\n",
       "   1/30/20  1/31/20  ...  8/7/20  8/8/20  8/9/20  8/10/20  8/11/20  8/12/20  \\\n",
       "0        0        0  ...    1307    1312    1312     1328     1344     1354   \n",
       "1        0        0  ...     189     193     199      200      205      208   \n",
       "2        0        0  ...    1282    1293    1302     1312     1322     1333   \n",
       "3        0        0  ...      52      52      52       52       52       53   \n",
       "4        0        0  ...      67      70      75       78       80       80   \n",
       "\n",
       "   8/13/20  8/14/20  8/15/20  8/16/20  \n",
       "0     1363     1363     1370     1375  \n",
       "1      213      219      225      228  \n",
       "2     1341     1351     1360     1370  \n",
       "3       53       53       53       53  \n",
       "4       80       86       86       88  \n",
       "\n",
       "[5 rows x 208 columns]"
      ]
     },
     "execution_count": 6,
     "metadata": {},
     "output_type": "execute_result"
    }
   ],
   "source": [
    "d = deaths_df.loc[:,'1/22/20':]\n",
    "d.head()"
   ]
  },
  {
   "cell_type": "markdown",
   "metadata": {},
   "source": [
    "Transpose the data frame"
   ]
  },
  {
   "cell_type": "code",
   "execution_count": 7,
   "metadata": {},
   "outputs": [],
   "source": [
    "d = d.transpose()"
   ]
  },
  {
   "cell_type": "markdown",
   "metadata": {},
   "source": [
    "Then sum row-wise"
   ]
  },
  {
   "cell_type": "code",
   "execution_count": 8,
   "metadata": {},
   "outputs": [],
   "source": [
    "d = d.sum(axis=1)"
   ]
  },
  {
   "cell_type": "markdown",
   "metadata": {},
   "source": [
    "We only need the numeric values here, so we convert `d` to a list"
   ]
  },
  {
   "cell_type": "code",
   "execution_count": 9,
   "metadata": {},
   "outputs": [],
   "source": [
    "d = d.to_list()"
   ]
  },
  {
   "cell_type": "markdown",
   "metadata": {},
   "source": [
    "Create a new data frame with two columns, which will be our dataset:"
   ]
  },
  {
   "cell_type": "code",
   "execution_count": 12,
   "metadata": {},
   "outputs": [],
   "source": [
    "dataset=pd.DataFrame(columns=['ds','y'])"
   ]
  },
  {
   "cell_type": "markdown",
   "metadata": {},
   "source": [
    "Get the dates from the columns in `deaths_df` data frame, starting from the fifth column. They will be obtained in string format."
   ]
  },
  {
   "cell_type": "code",
   "execution_count": 15,
   "metadata": {},
   "outputs": [],
   "source": [
    "dates=list(deaths_df.columns[4:])"
   ]
  },
  {
   "cell_type": "markdown",
   "metadata": {},
   "source": [
    "Convert the string dates into the datetime format, so that we can perform datetime operations on them"
   ]
  },
  {
   "cell_type": "code",
   "execution_count": 16,
   "metadata": {},
   "outputs": [],
   "source": [
    "dates=list(pd.to_datetime(dates))"
   ]
  },
  {
   "cell_type": "markdown",
   "metadata": {},
   "source": [
    "Now, assign the dates and deaths data to the columns in the new dataframe:"
   ]
  },
  {
   "cell_type": "code",
   "execution_count": 17,
   "metadata": {},
   "outputs": [],
   "source": [
    "dataset['ds']=dates\n",
    "dataset['y']=d"
   ]
  },
  {
   "cell_type": "markdown",
   "metadata": {},
   "source": [
    "We will need to have only 1 data column, y, with the index being ds"
   ]
  },
  {
   "cell_type": "code",
   "execution_count": 18,
   "metadata": {},
   "outputs": [],
   "source": [
    "dataset=dataset.set_index('ds')"
   ]
  },
  {
   "cell_type": "markdown",
   "metadata": {},
   "source": [
    "Let's plot the daily number of deaths\n"
   ]
  },
  {
   "cell_type": "code",
   "execution_count": 20,
   "metadata": {},
   "outputs": [
    {
     "data": {
      "image/png": "[encoded data removed]",
      "text/plain": [
       "<Figure size 720x720 with 1 Axes>"
      ]
     },
     "metadata": {
      "needs_background": "light"
     },
     "output_type": "display_data"
    }
   ],
   "source": [
    "plt.figure(figsize=(10,10))\n",
    "plt.plot(dataset)\n",
    "plt.savefig('Daily deaths',bbox_inches='tight',transparent='true')"
   ]
  },
  {
   "cell_type": "markdown",
   "metadata": {},
   "source": [
    "and let's see how the daily increase looks like. To do this, we will use the `diff` method from the Dataframe object."
   ]
  },
  {
   "cell_type": "code",
   "execution_count": 21,
   "metadata": {},
   "outputs": [
    {
     "data": {
      "image/png": "[encoded data removed]",
      "text/plain": [
       "<Figure size 720x720 with 1 Axes>"
      ]
     },
     "metadata": {
      "needs_background": "light"
     },
     "output_type": "display_data"
    }
   ],
   "source": [
    "plt.figure(figsize=(10,10))\n",
    "plt.plot(dataset.diff())\n",
    "plt.savefig('Daily deaths',bbox_inches='tight',transparent='true')"
   ]
  },
  {
   "cell_type": "markdown",
   "metadata": {},
   "source": [
    "In this project, we are going to analyze the daily reported deaths"
   ]
  },
  {
   "cell_type": "code",
   "execution_count": 22,
   "metadata": {},
   "outputs": [],
   "source": [
    "dataset=dataset.diff()"
   ]
  },
  {
   "cell_type": "markdown",
   "metadata": {},
   "source": [
    "We need to remove the first data point here, which will be a None value"
   ]
  },
  {
   "cell_type": "code",
   "execution_count": 23,
   "metadata": {},
   "outputs": [],
   "source": [
    "dataset=dataset.loc['2020-01-23':'2020-08-13']"
   ]
  },
  {
   "cell_type": "markdown",
   "metadata": {},
   "source": [
    "# Task 2: Forcasting using SARIMAX, or Seasonal AutoRegressive Integrated Moving Average with eXogenous regressors model"
   ]
  },
  {
   "cell_type": "markdown",
   "metadata": {},
   "source": [
    "SARIMAX is one of the time series models in the python statistics library statsmodels."
   ]
  },
  {
   "cell_type": "markdown",
   "metadata": {},
   "source": [
    "But before we apply the model, we will split our dataset into a training and test sets. We will do this by taking all dates prior to 31st of July as training set, on which the model will be optimized, and all dates from 31st July as the test set, on which we will test the accuracy of the predictions that the optimized model will make."
   ]
  },
  {
   "cell_type": "code",
   "execution_count": 26,
   "metadata": {},
   "outputs": [],
   "source": [
    "start_date='2020-07-31'\n",
    "\n",
    "train=dataset.loc[dataset.index < pd.to_datetime(start_date)]\n",
    "test=dataset.loc[dataset.index >=pd.to_datetime(start_date)]"
   ]
  },
  {
   "cell_type": "markdown",
   "metadata": {},
   "source": [
    "Now let's talk about SARIMAX. There are three hyperparameters that go into the order tuple: p, q and d. Here we've used p=2, q=1 and d=3."
   ]
  },
  {
   "cell_type": "code",
   "execution_count": 27,
   "metadata": {},
   "outputs": [],
   "source": [
    "model=SARIMAX(train,order=(2,1,3))"
   ]
  },
  {
   "cell_type": "markdown",
   "metadata": {},
   "source": [
    "Next, we call the fit method to optimize the model."
   ]
  },
  {
   "cell_type": "code",
   "execution_count": 28,
   "metadata": {},
   "outputs": [],
   "source": [
    "results = model.fit(disp=True)"
   ]
  },
  {
   "cell_type": "markdown",
   "metadata": {},
   "source": [
    "Now let's make predictions using the model, and compare those against the values in the test set."
   ]
  },
  {
   "cell_type": "code",
   "execution_count": 29,
   "metadata": {},
   "outputs": [
    {
     "data": {
      "image/png": "[encoded data removed]",
      "text/plain": [
       "<Figure size 720x360 with 1 Axes>"
      ]
     },
     "metadata": {
      "needs_background": "light"
     },
     "output_type": "display_data"
    }
   ],
   "source": [
    "sarimax_prediction = results.predict(\n",
    "    start=start_date,end='2020-08-13',dynamic=False)\n",
    "plt.figure(figsize=(10,5))\n",
    "l1,=plt.plot(dataset,label='Observation')\n",
    "l2,=plt.plot(sarimax_prediction,label='ARIMA')\n",
    "plt.legend(handles=[l1,l2])\n",
    "plt.savefig('SARIMAX prediction',bbox_inches='tight',transparent='True')"
   ]
  },
  {
   "cell_type": "markdown",
   "metadata": {},
   "source": [
    "Since that we are interested in comparing between the different time series analysis approaches, we are going to use one of the validation measures: mean absolute error."
   ]
  },
  {
   "cell_type": "code",
   "execution_count": 30,
   "metadata": {},
   "outputs": [
    {
     "name": "stdout",
     "output_type": "stream",
     "text": [
      "SARIMA MAE = 650.6157483614192\n"
     ]
    }
   ],
   "source": [
    "print('SARIMA MAE =',mean_absolute_error(sarimax_prediction,test))"
   ]
  },
  {
   "cell_type": "markdown",
   "metadata": {},
   "source": [
    "However, in a typical machine learning workflow, we should find the best values of p, q and r that will minimize the error. We can use the auto_arima function in the pmdarima module to do that. This will find the optimal parameter combintation and return the best model.\n"
   ]
  },
  {
   "cell_type": "code",
   "execution_count": 31,
   "metadata": {},
   "outputs": [
    {
     "name": "stdout",
     "output_type": "stream",
     "text": [
      "Performing stepwise search to minimize aic\n",
      " ARIMA(1,1,1)(0,0,0)[0] intercept   : AIC=3111.971, Time=0.44 sec\n",
      " ARIMA(0,1,0)(0,0,0)[0] intercept   : AIC=3132.320, Time=0.02 sec\n",
      " ARIMA(1,1,0)(0,0,0)[0] intercept   : AIC=3133.730, Time=0.04 sec\n",
      " ARIMA(0,1,1)(0,0,0)[0] intercept   : AIC=3133.267, Time=0.05 sec\n",
      " ARIMA(0,1,0)(0,0,0)[0]             : AIC=3130.535, Time=0.01 sec\n",
      " ARIMA(2,1,1)(0,0,0)[0] intercept   : AIC=3099.418, Time=0.59 sec\n",
      " ARIMA(2,1,0)(0,0,0)[0] intercept   : AIC=3128.118, Time=0.05 sec\n",
      " ARIMA(3,1,1)(0,0,0)[0] intercept   : AIC=3089.597, Time=0.74 sec\n",
      " ARIMA(3,1,0)(0,0,0)[0] intercept   : AIC=3116.490, Time=0.07 sec\n",
      " ARIMA(3,1,2)(0,0,0)[0] intercept   : AIC=3043.804, Time=0.77 sec\n",
      " ARIMA(2,1,2)(0,0,0)[0] intercept   : AIC=3040.433, Time=0.69 sec\n",
      " ARIMA(1,1,2)(0,0,0)[0] intercept   : AIC=3106.295, Time=0.57 sec\n",
      " ARIMA(2,1,3)(0,0,0)[0] intercept   : AIC=3025.719, Time=0.92 sec\n",
      " ARIMA(1,1,3)(0,0,0)[0] intercept   : AIC=3105.847, Time=0.64 sec\n",
      " ARIMA(3,1,3)(0,0,0)[0] intercept   : AIC=3032.873, Time=1.03 sec\n",
      " ARIMA(2,1,3)(0,0,0)[0]             : AIC=3024.848, Time=0.75 sec\n",
      " ARIMA(1,1,3)(0,0,0)[0]             : AIC=inf, Time=0.48 sec\n",
      " ARIMA(2,1,2)(0,0,0)[0]             : AIC=inf, Time=0.38 sec\n",
      " ARIMA(3,1,3)(0,0,0)[0]             : AIC=3034.045, Time=0.89 sec\n",
      " ARIMA(1,1,2)(0,0,0)[0]             : AIC=3106.064, Time=0.22 sec\n",
      " ARIMA(3,1,2)(0,0,0)[0]             : AIC=3030.660, Time=0.88 sec\n",
      "\n",
      "Best model:  ARIMA(2,1,3)(0,0,0)[0]          \n",
      "Total fit time: 10.287 seconds\n",
      "                               SARIMAX Results                                \n",
      "==============================================================================\n",
      "Dep. Variable:                      y   No. Observations:                  190\n",
      "Model:               SARIMAX(2, 1, 3)   Log Likelihood               -1506.424\n",
      "Date:                Tue, 17 May 2022   AIC                           3024.848\n",
      "Time:                        08:49:07   BIC                           3044.299\n",
      "Sample:                             0   HQIC                          3032.728\n",
      "                                - 190                                         \n",
      "Covariance Type:                  opg                                         \n",
      "==============================================================================\n",
      "                 coef    std err          z      P>|z|      [0.025      0.975]\n",
      "------------------------------------------------------------------------------\n",
      "ar.L1          1.2434      0.017     72.420      0.000       1.210       1.277\n",
      "ar.L2         -0.9796      0.019    -51.206      0.000      -1.017      -0.942\n",
      "ma.L1         -1.7687      0.065    -27.195      0.000      -1.896      -1.641\n",
      "ma.L2          1.4753      0.097     15.266      0.000       1.286       1.665\n",
      "ma.L3         -0.3939      0.064     -6.141      0.000      -0.520      -0.268\n",
      "sigma2      4.964e+05   3.61e+04     13.749      0.000    4.26e+05    5.67e+05\n",
      "===================================================================================\n",
      "Ljung-Box (Q):                      208.46   Jarque-Bera (JB):                95.44\n",
      "Prob(Q):                              0.00   Prob(JB):                         0.00\n",
      "Heteroskedasticity (H):              13.70   Skew:                             0.67\n",
      "Prob(H) (two-sided):                  0.00   Kurtosis:                         6.22\n",
      "===================================================================================\n",
      "\n",
      "Warnings:\n",
      "[1] Covariance matrix calculated using the outer product of gradients (complex-step).\n"
     ]
    }
   ],
   "source": [
    "model = pm.auto_arima(train, start_p=1, start_q=1,\n",
    "                      test='adf',       # use adftest to find optimal 'd'\n",
    "                      max_p=3, max_q=3,  # maximum p and q\n",
    "                      m=1,              # frequency of series\n",
    "                      d=None,           # let model determine 'd'\n",
    "                      seasonal=False,   # No Seasonality\n",
    "                      start_P=0,\n",
    "                      D=0,\n",
    "                      trace=True,\n",
    "                      error_action='ignore',\n",
    "                      suppress_warnings=True,\n",
    "                      stepwise=True)\n",
    "\n",
    "print(model.summary())"
   ]
  },
  {
   "cell_type": "markdown",
   "metadata": {},
   "source": [
    "Note that this gives us the best mode here: \"Best model:  SARIMAX(2,2,3)(0,0,0)[0]\""
   ]
  },
  {
   "cell_type": "markdown",
   "metadata": {},
   "source": [
    "# Task 3: Forcasting using Facebook's Prophet model"
   ]
  },
  {
   "cell_type": "markdown",
   "metadata": {},
   "source": [
    "This is the open source time series library released by Facebook. It is also widely used by Facebook in their own time series analysis tasks. Facebook prophet does not require that you specify or search for hyperparameters. The model can act as a black box that does all the required computations on its own. And it works with the same object-fit-predict API.\n",
    "\n",
    "Prophet expects the data frame to have 2 columns, unlike SARIMAX."
   ]
  },
  {
   "cell_type": "code",
   "execution_count": 56,
   "metadata": {},
   "outputs": [],
   "source": [
    "train['ds']=train.index.values"
   ]
  },
  {
   "cell_type": "markdown",
   "metadata": {},
   "source": [
    "Then we create a new Prophet object and call the `fit()` method"
   ]
  },
  {
   "cell_type": "code",
   "execution_count": 57,
   "metadata": {},
   "outputs": [
    {
     "name": "stderr",
     "output_type": "stream",
     "text": [
      "INFO:fbprophet:Disabling yearly seasonality. Run prophet with yearly_seasonality=True to override this.\n",
      "INFO:fbprophet:Disabling daily seasonality. Run prophet with daily_seasonality=True to override this.\n"
     ]
    },
    {
     "data": {
      "text/plain": [
       "<fbprophet.forecaster.Prophet at 0x7f3a25fb6668>"
      ]
     },
     "execution_count": 57,
     "metadata": {},
     "output_type": "execute_result"
    }
   ],
   "source": [
    "m=Prophet()\n",
    "m.fit(train)"
   ]
  },
  {
   "cell_type": "markdown",
   "metadata": {},
   "source": [
    "Now let's forecast:"
   ]
  },
  {
   "cell_type": "code",
   "execution_count": 58,
   "metadata": {},
   "outputs": [],
   "source": [
    "future=m.make_future_dataframe(periods=dataset.shape[0]-train.shape[0])\n",
    "prophet_prediction=m.predict(future)"
   ]
  },
  {
   "cell_type": "markdown",
   "metadata": {},
   "source": [
    "Now let us calculate the mean absolute error for our predictions."
   ]
  },
  {
   "cell_type": "code",
   "execution_count": 59,
   "metadata": {},
   "outputs": [
    {
     "name": "stdout",
     "output_type": "stream",
     "text": [
      "Prophet MAE =  572.5555342749124\n"
     ]
    }
   ],
   "source": [
    "prophet_prediction=prophet_prediction.set_index('ds')\n",
    "prophet_future = prophet_prediction.yhat.loc[prophet_prediction.index>=start_date]\n",
    "print('Prophet MAE = ',mean_absolute_error(prophet_future,test))"
   ]
  },
  {
   "cell_type": "markdown",
   "metadata": {},
   "source": [
    "Next, let's visualize the predictions."
   ]
  },
  {
   "cell_type": "code",
   "execution_count": 60,
   "metadata": {},
   "outputs": [
    {
     "data": {
      "image/png": "[encoded data removed]",
      "text/plain": [
       "<Figure size 720x360 with 1 Axes>"
      ]
     },
     "metadata": {
      "needs_background": "light"
     },
     "output_type": "display_data"
    }
   ],
   "source": [
    "plt.figure(figsize=(10,5))\n",
    "l1,=plt.plot(dataset,label='Observation')\n",
    "l2,=plt.plot(prophet_future,label=\"Prophet\")\n",
    "plt.legend(handles=[l1,l2])\n",
    "plt.savefig('Prophet predictions',bbox_inches='tight',transparent=False)"
   ]
  },
  {
   "cell_type": "markdown",
   "metadata": {},
   "source": [
    "# Task 4: Preparing the dataset for XGBOOST and NN"
   ]
  },
  {
   "cell_type": "markdown",
   "metadata": {},
   "source": [
    "Unlike the prophet and SAIMAX models, the two models we will train in Task 6, namely XGBOOST and NN, are supervised machine learning models that deal with independent data points, or examples. It assumes that each data point is totally independent from the rest of the data points in the dataset.\n",
    "\n",
    "Here is a method that extracts these features from a given dataframe object."
   ]
  },
  {
   "cell_type": "code",
   "execution_count": 62,
   "metadata": {},
   "outputs": [
    {
     "data": {
      "text/html": [
       "<div>\n",
       "<style scoped>\n",
       "    .dataframe tbody tr th:only-of-type {\n",
       "        vertical-align: middle;\n",
       "    }\n",
       "\n",
       "    .dataframe tbody tr th {\n",
       "        vertical-align: top;\n",
       "    }\n",
       "\n",
       "    .dataframe thead th {\n",
       "        text-align: right;\n",
       "    }\n",
       "</style>\n",
       "<table border=\"1\" class=\"dataframe\">\n",
       "  <thead>\n",
       "    <tr style=\"text-align: right;\">\n",
       "      <th></th>\n",
       "      <th>day</th>\n",
       "      <th>month</th>\n",
       "      <th>quarter</th>\n",
       "      <th>dayofweek</th>\n",
       "      <th>dayofyear</th>\n",
       "      <th>weekofyear</th>\n",
       "    </tr>\n",
       "  </thead>\n",
       "  <tbody>\n",
       "    <tr>\n",
       "      <th>0</th>\n",
       "      <td>23</td>\n",
       "      <td>1</td>\n",
       "      <td>1</td>\n",
       "      <td>3</td>\n",
       "      <td>23</td>\n",
       "      <td>4</td>\n",
       "    </tr>\n",
       "    <tr>\n",
       "      <th>1</th>\n",
       "      <td>24</td>\n",
       "      <td>1</td>\n",
       "      <td>1</td>\n",
       "      <td>4</td>\n",
       "      <td>24</td>\n",
       "      <td>4</td>\n",
       "    </tr>\n",
       "    <tr>\n",
       "      <th>2</th>\n",
       "      <td>25</td>\n",
       "      <td>1</td>\n",
       "      <td>1</td>\n",
       "      <td>5</td>\n",
       "      <td>25</td>\n",
       "      <td>4</td>\n",
       "    </tr>\n",
       "    <tr>\n",
       "      <th>3</th>\n",
       "      <td>26</td>\n",
       "      <td>1</td>\n",
       "      <td>1</td>\n",
       "      <td>6</td>\n",
       "      <td>26</td>\n",
       "      <td>4</td>\n",
       "    </tr>\n",
       "    <tr>\n",
       "      <th>4</th>\n",
       "      <td>27</td>\n",
       "      <td>1</td>\n",
       "      <td>1</td>\n",
       "      <td>0</td>\n",
       "      <td>27</td>\n",
       "      <td>5</td>\n",
       "    </tr>\n",
       "  </tbody>\n",
       "</table>\n",
       "</div>"
      ],
      "text/plain": [
       "   day  month  quarter  dayofweek  dayofyear  weekofyear\n",
       "0   23      1        1          3         23           4\n",
       "1   24      1        1          4         24           4\n",
       "2   25      1        1          5         25           4\n",
       "3   26      1        1          6         26           4\n",
       "4   27      1        1          0         27           5"
      ]
     },
     "execution_count": 62,
     "metadata": {},
     "output_type": "execute_result"
    }
   ],
   "source": [
    "def featurize(t):\n",
    "    X=pd.DataFrame()\n",
    "    X['day']=t.index.day\n",
    "    X['month']=t.index.month\n",
    "    X['quarter']=t.index.quarter\n",
    "    X['dayofweek']=t.index.dayofweek\n",
    "    X['dayofyear']=t.index.dayofyear\n",
    "    X['weekofyear']=t.index.weekofyear\n",
    "    y=t.y\n",
    "    return X, y\n",
    "\n",
    "featurize(dataset)[0].head()"
   ]
  },
  {
   "cell_type": "markdown",
   "metadata": {},
   "source": [
    "# Task 5: Create training and test datasets by splitting the dataset, and perform data normalization."
   ]
  },
  {
   "cell_type": "markdown",
   "metadata": {},
   "source": [
    "In this task we are going to cover two topics in data preparation: splitting the dataset into training and test data, and normalizing the data.\n",
    "\n",
    "You might have already performed a splitting operation of a dataset in machine learning, where one takes a randomly selected portion of the dataset, say 20%, as a test set, while the remaining 80% is the training set. It is randomly selected because the whole dataset is randomly shufflled before the selection. Another popular approach is the k-fold cross validation.\n",
    "\n",
    "However, those two methods won't work with time series data. The reason is: when we train the model on the training set, the purpose is to predict the target values in the future, which corresponds to date values that are outside of the date values in the training set."
   ]
  },
  {
   "cell_type": "code",
   "execution_count": 63,
   "metadata": {},
   "outputs": [],
   "source": [
    "X_train, y_train = featurize(\n",
    "    dataset.loc[dataset.index < pd.to_datetime(start_date)])\n",
    "X_test, y_test = featurize(\n",
    "    dataset.loc[dataset.index >= pd.to_datetime(start_date)])"
   ]
  },
  {
   "cell_type": "markdown",
   "metadata": {},
   "source": [
    "Now let's discuss data normalization. We perform data normalization so as to make the range of values of the features, or the columns in the X_train table, as close as possible. For example, we have the features dayofweek and dayofyear. The range of values of dayofweek is from 1 to 7, whereas dayofyear is from 1 to 365. Having such large differences in the ranges of values will either slow down the training of the machine learning model or make it quite difficult. We solve this problem by applying normalization. There are several ways we can normalize the data with. Here I will choose the StandardScaler, which applies the following equation on each of the columns.\n",
    "\n",
    "z = (x - u) / s\n",
    "\n",
    "Here x is the column before scaling, u is thee mean and s is the standard deviation. So basically, we subtract the mean of each column from itself, then divide by the standard deviation of that column. To apply StandardScaler, we first fit the scaler object to the dataset:\n"
   ]
  },
  {
   "cell_type": "code",
   "execution_count": 64,
   "metadata": {},
   "outputs": [
    {
     "data": {
      "text/plain": [
       "StandardScaler()"
      ]
     },
     "execution_count": 64,
     "metadata": {},
     "output_type": "execute_result"
    }
   ],
   "source": [
    "scaler = StandardScaler()\n",
    "scaler.fit(X_train)"
   ]
  },
  {
   "cell_type": "markdown",
   "metadata": {},
   "source": [
    "Apply the scaling to both the training and test sets, as follows."
   ]
  },
  {
   "cell_type": "code",
   "execution_count": 65,
   "metadata": {},
   "outputs": [],
   "source": [
    "scaled_train=scaler.transform(X_train)\n",
    "scaled_test=scaler.transform(X_test)"
   ]
  },
  {
   "cell_type": "markdown",
   "metadata": {},
   "source": [
    "# Task 6: Train the XGBOOST and NN models"
   ]
  },
  {
   "cell_type": "markdown",
   "metadata": {},
   "source": [
    "First, create the XGBRegressor object which will represent the XGBOOST regression model."
   ]
  },
  {
   "cell_type": "code",
   "execution_count": 66,
   "metadata": {},
   "outputs": [],
   "source": [
    "XGBOOST_model=XGBRegressor(n_estimators=10)"
   ]
  },
  {
   "cell_type": "markdown",
   "metadata": {},
   "source": [
    "Next, train the XGBOOST regression model using the fit method, and perform prediction using the predict method."
   ]
  },
  {
   "cell_type": "code",
   "execution_count": 67,
   "metadata": {},
   "outputs": [
    {
     "name": "stdout",
     "output_type": "stream",
     "text": [
      "[0]\tvalidation_0-rmse:3121.15405\tvalidation_1-rmse:4338.40674\n",
      "[1]\tvalidation_0-rmse:2264.95044\tvalidation_1-rmse:3135.70386\n",
      "[2]\tvalidation_0-rmse:1665.83826\tvalidation_1-rmse:2322.55371\n",
      "[3]\tvalidation_0-rmse:1241.47046\tvalidation_1-rmse:1676.83875\n",
      "[4]\tvalidation_0-rmse:942.85718\tvalidation_1-rmse:1199.80676\n",
      "[5]\tvalidation_0-rmse:732.31842\tvalidation_1-rmse:765.99835\n",
      "[6]\tvalidation_0-rmse:582.53577\tvalidation_1-rmse:501.29828\n",
      "[7]\tvalidation_0-rmse:472.67627\tvalidation_1-rmse:667.14893\n",
      "[8]\tvalidation_0-rmse:394.62479\tvalidation_1-rmse:765.89960\n",
      "[9]\tvalidation_0-rmse:338.00449\tvalidation_1-rmse:1083.99853\n"
     ]
    }
   ],
   "source": [
    "XGBOOST_model.fit(scaled_train,y_train,\n",
    "                 eval_set=[(scaled_train,y_train),(scaled_test,y_test)],\n",
    "                 verbose=True)\n",
    "XGBOOST_prediction=XGBOOST_model.predict(scaled_test)"
   ]
  },
  {
   "cell_type": "markdown",
   "metadata": {},
   "source": [
    "Let us calculate the mean absolute error for the training."
   ]
  },
  {
   "cell_type": "code",
   "execution_count": 68,
   "metadata": {},
   "outputs": [
    {
     "name": "stdout",
     "output_type": "stream",
     "text": [
      "XGBOOST MAE =  951.46875\n"
     ]
    }
   ],
   "source": [
    "print('XGBOOST MAE = ',mean_absolute_error(XGBOOST_prediction,y_test))"
   ]
  },
  {
   "cell_type": "markdown",
   "metadata": {},
   "source": [
    "Creation and training of the feedforward neural network model."
   ]
  },
  {
   "cell_type": "code",
   "execution_count": 69,
   "metadata": {},
   "outputs": [
    {
     "name": "stdout",
     "output_type": "stream",
     "text": [
      "Epoch 1/220\n",
      "6/6 [==============================] - 0s 23ms/step - loss: 3521.5266 - val_loss: 5792.9790\n",
      "Epoch 2/220\n",
      "6/6 [==============================] - 0s 5ms/step - loss: 3521.4553 - val_loss: 5792.8647\n",
      "Epoch 3/220\n",
      "6/6 [==============================] - 0s 6ms/step - loss: 3521.3857 - val_loss: 5792.8125\n",
      "Epoch 4/220\n",
      "6/6 [==============================] - 0s 6ms/step - loss: 3521.3171 - val_loss: 5792.7344\n",
      "Epoch 5/220\n",
      "6/6 [==============================] - 0s 7ms/step - loss: 3521.2446 - val_loss: 5792.5947\n",
      "Epoch 6/220\n",
      "6/6 [==============================] - 0s 8ms/step - loss: 3521.1670 - val_loss: 5792.5166\n",
      "Epoch 7/220\n",
      "6/6 [==============================] - 0s 7ms/step - loss: 3521.0845 - val_loss: 5792.4478\n",
      "Epoch 8/220\n",
      "6/6 [==============================] - 0s 5ms/step - loss: 3520.9946 - val_loss: 5792.3311\n",
      "Epoch 9/220\n",
      "6/6 [==============================] - 0s 6ms/step - loss: 3520.9006 - val_loss: 5792.2544\n",
      "Epoch 10/220\n",
      "6/6 [==============================] - 0s 6ms/step - loss: 3520.7935 - val_loss: 5792.0913\n",
      "Epoch 11/220\n",
      "6/6 [==============================] - 0s 5ms/step - loss: 3520.6790 - val_loss: 5792.0146\n",
      "Epoch 12/220\n",
      "6/6 [==============================] - 0s 5ms/step - loss: 3520.5518 - val_loss: 5791.8623\n",
      "Epoch 13/220\n",
      "6/6 [==============================] - 0s 5ms/step - loss: 3520.4155 - val_loss: 5791.5234\n",
      "Epoch 14/220\n",
      "6/6 [==============================] - 0s 5ms/step - loss: 3520.2612 - val_loss: 5791.2261\n",
      "Epoch 15/220\n",
      "6/6 [==============================] - 0s 5ms/step - loss: 3520.0879 - val_loss: 5791.0010\n",
      "Epoch 16/220\n",
      "6/6 [==============================] - 0s 4ms/step - loss: 3519.9016 - val_loss: 5790.7437\n",
      "Epoch 17/220\n",
      "6/6 [==============================] - 0s 6ms/step - loss: 3519.6951 - val_loss: 5790.4487\n",
      "Epoch 18/220\n",
      "6/6 [==============================] - 0s 5ms/step - loss: 3519.4666 - val_loss: 5790.2344\n",
      "Epoch 19/220\n",
      "6/6 [==============================] - 0s 5ms/step - loss: 3519.2195 - val_loss: 5789.8325\n",
      "Epoch 20/220\n",
      "6/6 [==============================] - 0s 4ms/step - loss: 3518.9458 - val_loss: 5789.4053\n",
      "Epoch 21/220\n",
      "6/6 [==============================] - 0s 5ms/step - loss: 3518.6455 - val_loss: 5788.7959\n",
      "Epoch 22/220\n",
      "6/6 [==============================] - 0s 4ms/step - loss: 3518.3115 - val_loss: 5788.2065\n",
      "Epoch 23/220\n",
      "6/6 [==============================] - 0s 6ms/step - loss: 3517.9495 - val_loss: 5787.4995\n",
      "Epoch 24/220\n",
      "6/6 [==============================] - 0s 4ms/step - loss: 3517.5513 - val_loss: 5786.7334\n",
      "Epoch 25/220\n",
      "6/6 [==============================] - 0s 5ms/step - loss: 3517.1182 - val_loss: 5785.8799\n",
      "Epoch 26/220\n",
      "6/6 [==============================] - 0s 5ms/step - loss: 3516.6401 - val_loss: 5784.8081\n",
      "Epoch 27/220\n",
      "6/6 [==============================] - 0s 7ms/step - loss: 3516.1304 - val_loss: 5783.5459\n",
      "Epoch 28/220\n",
      "6/6 [==============================] - 0s 6ms/step - loss: 3515.5625 - val_loss: 5782.2646\n",
      "Epoch 29/220\n",
      "6/6 [==============================] - 0s 9ms/step - loss: 3514.9412 - val_loss: 5781.0503\n",
      "Epoch 30/220\n",
      "6/6 [==============================] - 0s 5ms/step - loss: 3514.2861 - val_loss: 5779.5728\n",
      "Epoch 31/220\n",
      "6/6 [==============================] - 0s 8ms/step - loss: 3513.5701 - val_loss: 5777.8101\n",
      "Epoch 32/220\n",
      "6/6 [==============================] - 0s 5ms/step - loss: 3512.7952 - val_loss: 5775.9727\n",
      "Epoch 33/220\n",
      "6/6 [==============================] - 0s 10ms/step - loss: 3511.9487 - val_loss: 5774.0815\n",
      "Epoch 34/220\n",
      "6/6 [==============================] - 0s 7ms/step - loss: 3511.0571 - val_loss: 5772.1382\n",
      "Epoch 35/220\n",
      "6/6 [==============================] - 0s 7ms/step - loss: 3510.1001 - val_loss: 5769.9292\n",
      "Epoch 36/220\n",
      "6/6 [==============================] - 0s 9ms/step - loss: 3509.0796 - val_loss: 5767.4058\n",
      "Epoch 37/220\n",
      "6/6 [==============================] - 0s 8ms/step - loss: 3507.9568 - val_loss: 5765.3994\n",
      "Epoch 38/220\n",
      "6/6 [==============================] - 0s 6ms/step - loss: 3506.8174 - val_loss: 5762.6284\n",
      "Epoch 39/220\n",
      "6/6 [==============================] - 0s 5ms/step - loss: 3505.6052 - val_loss: 5759.5151\n",
      "Epoch 40/220\n",
      "6/6 [==============================] - 0s 6ms/step - loss: 3504.2974 - val_loss: 5755.9844\n",
      "Epoch 41/220\n",
      "6/6 [==============================] - 0s 5ms/step - loss: 3502.8728 - val_loss: 5752.6606\n",
      "Epoch 42/220\n",
      "6/6 [==============================] - 0s 5ms/step - loss: 3501.4041 - val_loss: 5749.1128\n",
      "Epoch 43/220\n",
      "6/6 [==============================] - 0s 5ms/step - loss: 3499.8579 - val_loss: 5745.1104\n",
      "Epoch 44/220\n",
      "6/6 [==============================] - 0s 7ms/step - loss: 3498.1848 - val_loss: 5741.1343\n",
      "Epoch 45/220\n",
      "6/6 [==============================] - 0s 6ms/step - loss: 3496.4487 - val_loss: 5736.7725\n",
      "Epoch 46/220\n",
      "6/6 [==============================] - 0s 8ms/step - loss: 3494.6316 - val_loss: 5732.0547\n",
      "Epoch 47/220\n",
      "6/6 [==============================] - 0s 7ms/step - loss: 3492.7139 - val_loss: 5727.1353\n",
      "Epoch 48/220\n",
      "6/6 [==============================] - 0s 7ms/step - loss: 3490.6509 - val_loss: 5723.0513\n",
      "Epoch 49/220\n",
      "6/6 [==============================] - 0s 8ms/step - loss: 3488.5400 - val_loss: 5718.1709\n",
      "Epoch 50/220\n",
      "6/6 [==============================] - 0s 8ms/step - loss: 3486.3047 - val_loss: 5713.0337\n",
      "Epoch 51/220\n",
      "6/6 [==============================] - 0s 5ms/step - loss: 3483.9993 - val_loss: 5707.3252\n",
      "Epoch 52/220\n",
      "6/6 [==============================] - 0s 5ms/step - loss: 3481.5220 - val_loss: 5702.0688\n",
      "Epoch 53/220\n",
      "6/6 [==============================] - 0s 6ms/step - loss: 3478.9424 - val_loss: 5696.8481\n",
      "Epoch 54/220\n",
      "6/6 [==============================] - 0s 7ms/step - loss: 3476.3179 - val_loss: 5691.1572\n",
      "Epoch 55/220\n",
      "6/6 [==============================] - 0s 9ms/step - loss: 3473.5500 - val_loss: 5684.4229\n",
      "Epoch 56/220\n",
      "6/6 [==============================] - 0s 6ms/step - loss: 3470.6458 - val_loss: 5677.8804\n",
      "Epoch 57/220\n",
      "6/6 [==============================] - 0s 5ms/step - loss: 3467.6082 - val_loss: 5671.3560\n",
      "Epoch 58/220\n",
      "6/6 [==============================] - 0s 5ms/step - loss: 3464.4724 - val_loss: 5664.7666\n",
      "Epoch 59/220\n",
      "6/6 [==============================] - 0s 6ms/step - loss: 3461.2537 - val_loss: 5657.3716\n",
      "Epoch 60/220\n",
      "6/6 [==============================] - 0s 6ms/step - loss: 3457.8389 - val_loss: 5649.3022\n",
      "Epoch 61/220\n",
      "6/6 [==============================] - 0s 5ms/step - loss: 3454.3477 - val_loss: 5640.4893\n",
      "Epoch 62/220\n",
      "6/6 [==============================] - 0s 5ms/step - loss: 3450.6753 - val_loss: 5632.1616\n",
      "Epoch 63/220\n",
      "6/6 [==============================] - 0s 6ms/step - loss: 3447.0955 - val_loss: 5620.8359\n",
      "Epoch 64/220\n",
      "6/6 [==============================] - 0s 4ms/step - loss: 3443.0098 - val_loss: 5612.0820\n",
      "Epoch 65/220\n",
      "6/6 [==============================] - 0s 5ms/step - loss: 3438.9907 - val_loss: 5602.9175\n",
      "Epoch 66/220\n",
      "6/6 [==============================] - 0s 4ms/step - loss: 3434.9365 - val_loss: 5591.6987\n",
      "Epoch 67/220\n",
      "6/6 [==============================] - 0s 5ms/step - loss: 3430.5359 - val_loss: 5580.7959\n",
      "Epoch 68/220\n",
      "6/6 [==============================] - 0s 9ms/step - loss: 3426.1316 - val_loss: 5569.4561\n",
      "Epoch 69/220\n",
      "6/6 [==============================] - 0s 7ms/step - loss: 3421.5020 - val_loss: 5558.6250\n",
      "Epoch 70/220\n",
      "6/6 [==============================] - 0s 9ms/step - loss: 3416.7393 - val_loss: 5547.4810\n",
      "Epoch 71/220\n",
      "6/6 [==============================] - 0s 9ms/step - loss: 3411.8127 - val_loss: 5536.0669\n",
      "Epoch 72/220\n",
      "6/6 [==============================] - 0s 6ms/step - loss: 3406.8674 - val_loss: 5523.3267\n",
      "Epoch 73/220\n",
      "6/6 [==============================] - 0s 5ms/step - loss: 3401.7251 - val_loss: 5509.5054\n",
      "Epoch 74/220\n",
      "6/6 [==============================] - 0s 6ms/step - loss: 3396.3010 - val_loss: 5496.5815\n",
      "Epoch 75/220\n",
      "6/6 [==============================] - 0s 5ms/step - loss: 3390.9507 - val_loss: 5481.8960\n",
      "Epoch 76/220\n",
      "6/6 [==============================] - 0s 5ms/step - loss: 3385.0969 - val_loss: 5469.8345\n",
      "Epoch 77/220\n",
      "6/6 [==============================] - 0s 5ms/step - loss: 3379.4302 - val_loss: 5455.8022\n",
      "Epoch 78/220\n",
      "6/6 [==============================] - 0s 5ms/step - loss: 3373.6692 - val_loss: 5438.5420\n",
      "Epoch 79/220\n",
      "6/6 [==============================] - 0s 6ms/step - loss: 3367.3459 - val_loss: 5424.6650\n",
      "Epoch 80/220\n",
      "6/6 [==============================] - 0s 8ms/step - loss: 3361.2756 - val_loss: 5407.2495\n",
      "Epoch 81/220\n",
      "6/6 [==============================] - 0s 8ms/step - loss: 3354.8125 - val_loss: 5390.1782\n",
      "Epoch 82/220\n",
      "6/6 [==============================] - 0s 8ms/step - loss: 3348.0930 - val_loss: 5375.2812\n",
      "Epoch 83/220\n",
      "6/6 [==============================] - 0s 11ms/step - loss: 3341.9373 - val_loss: 5354.4072\n",
      "Epoch 84/220\n",
      "6/6 [==============================] - 0s 5ms/step - loss: 3334.5493 - val_loss: 5337.5933\n",
      "Epoch 85/220\n",
      "6/6 [==============================] - 0s 10ms/step - loss: 3327.7935 - val_loss: 5317.3804\n",
      "Epoch 86/220\n",
      "6/6 [==============================] - 0s 12ms/step - loss: 3320.2075 - val_loss: 5301.4697\n",
      "Epoch 87/220\n",
      "6/6 [==============================] - 0s 12ms/step - loss: 3313.1118 - val_loss: 5281.5869\n",
      "Epoch 88/220\n",
      "6/6 [==============================] - 0s 15ms/step - loss: 3305.3672 - val_loss: 5262.0981\n",
      "Epoch 89/220\n",
      "6/6 [==============================] - 0s 5ms/step - loss: 3297.5178 - val_loss: 5244.1719\n",
      "Epoch 90/220\n",
      "6/6 [==============================] - 0s 7ms/step - loss: 3290.1323 - val_loss: 5219.6138\n",
      "Epoch 91/220\n",
      "6/6 [==============================] - 0s 6ms/step - loss: 3281.5315 - val_loss: 5199.7847\n",
      "Epoch 92/220\n",
      "6/6 [==============================] - 0s 6ms/step - loss: 3273.3718 - val_loss: 5177.0713\n",
      "Epoch 93/220\n",
      "6/6 [==============================] - 0s 5ms/step - loss: 3264.8674 - val_loss: 5154.5010\n",
      "Epoch 94/220\n",
      "6/6 [==============================] - 0s 10ms/step - loss: 3256.0432 - val_loss: 5134.4258\n",
      "Epoch 95/220\n",
      "6/6 [==============================] - 0s 6ms/step - loss: 3247.2395 - val_loss: 5111.6118\n",
      "Epoch 96/220\n",
      "6/6 [==============================] - 0s 7ms/step - loss: 3238.2224 - val_loss: 5086.3857\n",
      "Epoch 97/220\n",
      "6/6 [==============================] - 0s 8ms/step - loss: 3229.1172 - val_loss: 5060.1763\n",
      "Epoch 98/220\n",
      "6/6 [==============================] - 0s 7ms/step - loss: 3220.0017 - val_loss: 5032.0791\n",
      "Epoch 99/220\n",
      "6/6 [==============================] - 0s 6ms/step - loss: 3209.5596 - val_loss: 5012.7065\n",
      "Epoch 100/220\n",
      "6/6 [==============================] - 0s 11ms/step - loss: 3200.0874 - val_loss: 4986.3555\n",
      "Epoch 101/220\n",
      "6/6 [==============================] - 0s 12ms/step - loss: 3190.1619 - val_loss: 4959.9619\n",
      "Epoch 102/220\n",
      "6/6 [==============================] - 0s 15ms/step - loss: 3179.9336 - val_loss: 4934.5557\n",
      "Epoch 103/220\n",
      "6/6 [==============================] - 0s 8ms/step - loss: 3169.3306 - val_loss: 4909.6538\n",
      "Epoch 104/220\n",
      "6/6 [==============================] - 0s 12ms/step - loss: 3159.1116 - val_loss: 4881.0962\n",
      "Epoch 105/220\n",
      "6/6 [==============================] - 0s 10ms/step - loss: 3148.0171 - val_loss: 4854.7783\n",
      "Epoch 106/220\n",
      "6/6 [==============================] - 0s 7ms/step - loss: 3136.8474 - val_loss: 4829.8774\n",
      "Epoch 107/220\n",
      "6/6 [==============================] - 0s 6ms/step - loss: 3125.7349 - val_loss: 4804.4019\n",
      "Epoch 108/220\n",
      "6/6 [==============================] - 0s 5ms/step - loss: 3114.5066 - val_loss: 4775.4912\n",
      "Epoch 109/220\n",
      "6/6 [==============================] - 0s 5ms/step - loss: 3102.9602 - val_loss: 4743.4009\n",
      "Epoch 110/220\n",
      "6/6 [==============================] - 0s 6ms/step - loss: 3091.3276 - val_loss: 4711.7632\n",
      "Epoch 111/220\n",
      "6/6 [==============================] - 0s 5ms/step - loss: 3078.9053 - val_loss: 4682.4873\n",
      "Epoch 112/220\n",
      "6/6 [==============================] - 0s 10ms/step - loss: 3066.7683 - val_loss: 4650.4282\n",
      "Epoch 113/220\n",
      "6/6 [==============================] - 0s 6ms/step - loss: 3054.4951 - val_loss: 4614.3687\n",
      "Epoch 114/220\n",
      "6/6 [==============================] - 0s 8ms/step - loss: 3041.4724 - val_loss: 4582.6230\n",
      "Epoch 115/220\n",
      "6/6 [==============================] - 0s 8ms/step - loss: 3029.0122 - val_loss: 4546.7983\n",
      "Epoch 116/220\n",
      "6/6 [==============================] - 0s 7ms/step - loss: 3015.7090 - val_loss: 4513.0537\n",
      "Epoch 117/220\n",
      "6/6 [==============================] - 0s 6ms/step - loss: 3002.7092 - val_loss: 4475.2275\n",
      "Epoch 118/220\n",
      "6/6 [==============================] - 0s 9ms/step - loss: 2988.9941 - val_loss: 4437.4805\n",
      "Epoch 119/220\n",
      "6/6 [==============================] - 0s 6ms/step - loss: 2975.2947 - val_loss: 4402.5205\n",
      "Epoch 120/220\n",
      "6/6 [==============================] - 0s 9ms/step - loss: 2961.4448 - val_loss: 4364.5225\n",
      "Epoch 121/220\n",
      "6/6 [==============================] - 0s 10ms/step - loss: 2946.9329 - val_loss: 4329.5239\n",
      "Epoch 122/220\n",
      "6/6 [==============================] - 0s 11ms/step - loss: 2932.8203 - val_loss: 4290.9624\n",
      "Epoch 123/220\n",
      "6/6 [==============================] - 0s 6ms/step - loss: 2918.1506 - val_loss: 4251.6768\n",
      "Epoch 124/220\n",
      "6/6 [==============================] - 0s 8ms/step - loss: 2903.2251 - val_loss: 4213.7471\n",
      "Epoch 125/220\n",
      "6/6 [==============================] - 0s 7ms/step - loss: 2888.5066 - val_loss: 4172.2383\n",
      "Epoch 126/220\n",
      "6/6 [==============================] - 0s 5ms/step - loss: 2872.9624 - val_loss: 4133.2402\n",
      "Epoch 127/220\n",
      "6/6 [==============================] - 0s 10ms/step - loss: 2857.9382 - val_loss: 4090.2222\n",
      "Epoch 128/220\n",
      "6/6 [==============================] - 0s 7ms/step - loss: 2842.2700 - val_loss: 4047.0330\n",
      "Epoch 129/220\n",
      "6/6 [==============================] - 0s 10ms/step - loss: 2825.9775 - val_loss: 4003.9497\n",
      "Epoch 130/220\n",
      "6/6 [==============================] - 0s 10ms/step - loss: 2809.3572 - val_loss: 3966.3254\n",
      "Epoch 131/220\n",
      "6/6 [==============================] - 0s 5ms/step - loss: 2793.2144 - val_loss: 3924.4197\n",
      "Epoch 132/220\n",
      "6/6 [==============================] - 0s 6ms/step - loss: 2776.5400 - val_loss: 3880.5742\n",
      "Epoch 133/220\n",
      "6/6 [==============================] - 0s 5ms/step - loss: 2759.7510 - val_loss: 3835.1243\n",
      "Epoch 134/220\n",
      "6/6 [==============================] - 0s 6ms/step - loss: 2742.5754 - val_loss: 3786.1155\n",
      "Epoch 135/220\n",
      "6/6 [==============================] - 0s 6ms/step - loss: 2725.6147 - val_loss: 3733.5920\n",
      "Epoch 136/220\n",
      "6/6 [==============================] - 0s 6ms/step - loss: 2708.0244 - val_loss: 3686.2600\n",
      "Epoch 137/220\n",
      "6/6 [==============================] - 0s 8ms/step - loss: 2690.3335 - val_loss: 3636.9246\n",
      "Epoch 138/220\n",
      "6/6 [==============================] - 0s 7ms/step - loss: 2672.4927 - val_loss: 3591.7837\n",
      "Epoch 139/220\n",
      "6/6 [==============================] - 0s 11ms/step - loss: 2655.0593 - val_loss: 3543.2075\n",
      "Epoch 140/220\n",
      "6/6 [==============================] - 0s 8ms/step - loss: 2636.2759 - val_loss: 3497.1365\n",
      "Epoch 141/220\n",
      "6/6 [==============================] - 0s 7ms/step - loss: 2618.6021 - val_loss: 3445.2734\n",
      "Epoch 142/220\n",
      "6/6 [==============================] - 0s 7ms/step - loss: 2599.6863 - val_loss: 3396.7085\n",
      "Epoch 143/220\n",
      "6/6 [==============================] - 0s 6ms/step - loss: 2581.2898 - val_loss: 3345.8315\n",
      "Epoch 144/220\n",
      "6/6 [==============================] - 0s 6ms/step - loss: 2561.7141 - val_loss: 3292.6582\n",
      "Epoch 145/220\n",
      "6/6 [==============================] - 0s 5ms/step - loss: 2543.1616 - val_loss: 3233.8367\n",
      "Epoch 146/220\n",
      "6/6 [==============================] - 0s 7ms/step - loss: 2523.3467 - val_loss: 3179.7454\n",
      "Epoch 147/220\n",
      "6/6 [==============================] - 0s 7ms/step - loss: 2503.7043 - val_loss: 3127.2449\n",
      "Epoch 148/220\n",
      "6/6 [==============================] - 0s 8ms/step - loss: 2484.4302 - val_loss: 3065.6145\n",
      "Epoch 149/220\n",
      "6/6 [==============================] - 0s 7ms/step - loss: 2463.3464 - val_loss: 3015.0574\n",
      "Epoch 150/220\n",
      "6/6 [==============================] - 0s 6ms/step - loss: 2443.2373 - val_loss: 2953.4302\n",
      "Epoch 151/220\n",
      "6/6 [==============================] - 0s 6ms/step - loss: 2422.4473 - val_loss: 2895.1782\n",
      "Epoch 152/220\n",
      "6/6 [==============================] - 0s 5ms/step - loss: 2401.3213 - val_loss: 2840.2363\n",
      "Epoch 153/220\n",
      "6/6 [==============================] - 0s 5ms/step - loss: 2380.5798 - val_loss: 2777.6809\n",
      "Epoch 154/220\n",
      "6/6 [==============================] - 0s 5ms/step - loss: 2358.9551 - val_loss: 2717.9263\n",
      "Epoch 155/220\n",
      "6/6 [==============================] - 0s 4ms/step - loss: 2336.5867 - val_loss: 2665.7703\n",
      "Epoch 156/220\n",
      "6/6 [==============================] - 0s 5ms/step - loss: 2315.1572 - val_loss: 2601.6233\n",
      "Epoch 157/220\n",
      "6/6 [==============================] - 0s 9ms/step - loss: 2292.9639 - val_loss: 2535.4207\n",
      "Epoch 158/220\n",
      "6/6 [==============================] - 0s 7ms/step - loss: 2270.6575 - val_loss: 2472.0112\n",
      "Epoch 159/220\n",
      "6/6 [==============================] - 0s 6ms/step - loss: 2248.3501 - val_loss: 2409.1467\n",
      "Epoch 160/220\n",
      "6/6 [==============================] - 0s 9ms/step - loss: 2224.4070 - val_loss: 2353.2012\n",
      "Epoch 161/220\n",
      "6/6 [==============================] - 0s 8ms/step - loss: 2201.1648 - val_loss: 2288.4849\n",
      "Epoch 162/220\n",
      "6/6 [==============================] - 0s 9ms/step - loss: 2178.3291 - val_loss: 2214.6204\n",
      "Epoch 163/220\n",
      "6/6 [==============================] - 0s 6ms/step - loss: 2153.9165 - val_loss: 2148.3645\n",
      "Epoch 164/220\n",
      "6/6 [==============================] - 0s 5ms/step - loss: 2130.3545 - val_loss: 2079.4207\n",
      "Epoch 165/220\n",
      "6/6 [==============================] - 0s 5ms/step - loss: 2105.6831 - val_loss: 2022.0760\n",
      "Epoch 166/220\n",
      "6/6 [==============================] - 0s 8ms/step - loss: 2081.9912 - val_loss: 1951.0974\n",
      "Epoch 167/220\n",
      "6/6 [==============================] - 0s 7ms/step - loss: 2057.1865 - val_loss: 1886.4869\n",
      "Epoch 168/220\n",
      "6/6 [==============================] - 0s 8ms/step - loss: 2033.4545 - val_loss: 1819.4734\n",
      "Epoch 169/220\n",
      "6/6 [==============================] - 0s 11ms/step - loss: 2009.5720 - val_loss: 1751.3390\n",
      "Epoch 170/220\n",
      "6/6 [==============================] - 0s 10ms/step - loss: 1985.0375 - val_loss: 1690.1747\n",
      "Epoch 171/220\n",
      "6/6 [==============================] - 0s 8ms/step - loss: 1961.1251 - val_loss: 1628.4945\n",
      "Epoch 172/220\n",
      "6/6 [==============================] - 0s 10ms/step - loss: 1938.0397 - val_loss: 1557.1526\n",
      "Epoch 173/220\n",
      "6/6 [==============================] - 0s 6ms/step - loss: 1913.2856 - val_loss: 1488.6833\n",
      "Epoch 174/220\n",
      "6/6 [==============================] - 0s 6ms/step - loss: 1890.6493 - val_loss: 1410.4623\n",
      "Epoch 175/220\n",
      "6/6 [==============================] - 0s 9ms/step - loss: 1866.6747 - val_loss: 1360.6359\n",
      "Epoch 176/220\n",
      "6/6 [==============================] - 0s 5ms/step - loss: 1845.3422 - val_loss: 1317.1775\n",
      "Epoch 177/220\n",
      "6/6 [==============================] - 0s 7ms/step - loss: 1825.2491 - val_loss: 1284.8525\n",
      "Epoch 178/220\n",
      "6/6 [==============================] - 0s 8ms/step - loss: 1805.7733 - val_loss: 1260.9570\n",
      "Epoch 179/220\n",
      "6/6 [==============================] - 0s 8ms/step - loss: 1786.2917 - val_loss: 1238.2434\n",
      "Epoch 180/220\n",
      "6/6 [==============================] - 0s 10ms/step - loss: 1768.0586 - val_loss: 1204.8263\n",
      "Epoch 181/220\n",
      "6/6 [==============================] - 0s 10ms/step - loss: 1749.3116 - val_loss: 1177.7196\n",
      "Epoch 182/220\n",
      "6/6 [==============================] - 0s 7ms/step - loss: 1730.1067 - val_loss: 1152.5718\n",
      "Epoch 183/220\n",
      "6/6 [==============================] - 0s 6ms/step - loss: 1712.0208 - val_loss: 1125.6281\n",
      "Epoch 184/220\n",
      "6/6 [==============================] - 0s 12ms/step - loss: 1693.7151 - val_loss: 1100.6869\n",
      "Epoch 185/220\n",
      "6/6 [==============================] - 0s 11ms/step - loss: 1674.8859 - val_loss: 1079.1158\n",
      "Epoch 186/220\n",
      "6/6 [==============================] - 0s 7ms/step - loss: 1657.9556 - val_loss: 1050.5481\n",
      "Epoch 187/220\n",
      "6/6 [==============================] - 0s 7ms/step - loss: 1638.6118 - val_loss: 1023.8771\n",
      "Epoch 188/220\n",
      "6/6 [==============================] - 0s 8ms/step - loss: 1619.6478 - val_loss: 996.2327\n",
      "Epoch 189/220\n",
      "6/6 [==============================] - 0s 5ms/step - loss: 1601.9535 - val_loss: 968.4874\n",
      "Epoch 190/220\n",
      "6/6 [==============================] - 0s 4ms/step - loss: 1584.5114 - val_loss: 942.8079\n",
      "Epoch 191/220\n",
      "6/6 [==============================] - 0s 5ms/step - loss: 1568.9913 - val_loss: 916.6836\n",
      "Epoch 192/220\n",
      "6/6 [==============================] - 0s 5ms/step - loss: 1552.7032 - val_loss: 896.0961\n",
      "Epoch 193/220\n",
      "6/6 [==============================] - 0s 5ms/step - loss: 1537.4814 - val_loss: 879.0782\n",
      "Epoch 194/220\n",
      "6/6 [==============================] - 0s 5ms/step - loss: 1522.7620 - val_loss: 866.7761\n",
      "Epoch 195/220\n",
      "6/6 [==============================] - 0s 8ms/step - loss: 1509.3574 - val_loss: 856.3468\n",
      "Epoch 196/220\n",
      "6/6 [==============================] - 0s 7ms/step - loss: 1495.4521 - val_loss: 846.7521\n",
      "Epoch 197/220\n",
      "6/6 [==============================] - 0s 7ms/step - loss: 1483.4133 - val_loss: 834.7675\n",
      "Epoch 198/220\n",
      "6/6 [==============================] - 0s 6ms/step - loss: 1469.7797 - val_loss: 822.3660\n",
      "Epoch 199/220\n",
      "6/6 [==============================] - 0s 11ms/step - loss: 1457.6406 - val_loss: 812.2665\n",
      "Epoch 200/220\n",
      "6/6 [==============================] - 0s 6ms/step - loss: 1444.1288 - val_loss: 800.7529\n",
      "Epoch 201/220\n",
      "6/6 [==============================] - 0s 5ms/step - loss: 1431.5809 - val_loss: 786.7793\n",
      "Epoch 202/220\n",
      "6/6 [==============================] - 0s 5ms/step - loss: 1419.7513 - val_loss: 777.0661\n",
      "Epoch 203/220\n",
      "6/6 [==============================] - 0s 5ms/step - loss: 1406.8309 - val_loss: 770.2863\n",
      "Epoch 204/220\n",
      "6/6 [==============================] - 0s 7ms/step - loss: 1395.8092 - val_loss: 763.5735\n",
      "Epoch 205/220\n",
      "6/6 [==============================] - 0s 11ms/step - loss: 1383.4601 - val_loss: 757.1304\n",
      "Epoch 206/220\n",
      "6/6 [==============================] - 0s 8ms/step - loss: 1372.0316 - val_loss: 750.3927\n",
      "Epoch 207/220\n",
      "6/6 [==============================] - 0s 9ms/step - loss: 1360.0226 - val_loss: 745.3422\n",
      "Epoch 208/220\n",
      "6/6 [==============================] - 0s 9ms/step - loss: 1349.4694 - val_loss: 739.7822\n",
      "Epoch 209/220\n",
      "6/6 [==============================] - 0s 6ms/step - loss: 1340.7393 - val_loss: 736.8315\n",
      "Epoch 210/220\n",
      "6/6 [==============================] - 0s 7ms/step - loss: 1332.0906 - val_loss: 731.8763\n",
      "Epoch 211/220\n",
      "6/6 [==============================] - 0s 6ms/step - loss: 1324.8534 - val_loss: 727.6112\n",
      "Epoch 212/220\n",
      "6/6 [==============================] - 0s 9ms/step - loss: 1318.0601 - val_loss: 724.6108\n",
      "Epoch 213/220\n",
      "6/6 [==============================] - 0s 9ms/step - loss: 1311.6536 - val_loss: 721.9594\n",
      "Epoch 214/220\n",
      "6/6 [==============================] - 0s 5ms/step - loss: 1305.9321 - val_loss: 721.6508\n",
      "Epoch 215/220\n",
      "6/6 [==============================] - 0s 6ms/step - loss: 1299.6829 - val_loss: 721.6143\n",
      "Epoch 216/220\n",
      "6/6 [==============================] - 0s 7ms/step - loss: 1294.0891 - val_loss: 722.4135\n",
      "Epoch 217/220\n",
      "6/6 [==============================] - 0s 7ms/step - loss: 1289.1151 - val_loss: 723.6587\n",
      "Epoch 218/220\n",
      "6/6 [==============================] - 0s 8ms/step - loss: 1284.1798 - val_loss: 727.0257\n",
      "Epoch 219/220\n",
      "6/6 [==============================] - 0s 7ms/step - loss: 1280.6229 - val_loss: 729.8327\n",
      "Epoch 220/220\n",
      "6/6 [==============================] - 0s 7ms/step - loss: 1277.4032 - val_loss: 732.9577\n"
     ]
    }
   ],
   "source": [
    "NN_model=Sequential()\n",
    "NN_model.add(Dense(20,input_shape=(scaled_train.shape[1],)))\n",
    "NN_model.add(Dense(10))\n",
    "NN_model.add(Dense(1))\n",
    "NN_model.compile(loss='mean_absolute_error',optimizer=Adam(lr=0.001))\n",
    "NN_model.fit(scaled_train,y_train,validation_data=(\n",
    "    scaled_test, y_test), epochs=220, verbose=1)\n",
    "NN_prediction=NN_model.predict(scaled_test)"
   ]
  },
  {
   "cell_type": "markdown",
   "metadata": {},
   "source": [
    "Let's compare the MAE values."
   ]
  },
  {
   "cell_type": "code",
   "execution_count": 70,
   "metadata": {},
   "outputs": [
    {
     "name": "stdout",
     "output_type": "stream",
     "text": [
      "XGBOOST MAE = 951.46875\n",
      "Prophet MAE = 572.5555342749124\n",
      "SARIMAX MAE = 650.6157483614192\n",
      "NN MAE = 732.9577985491071\n"
     ]
    }
   ],
   "source": [
    "print('XGBOOST MAE =', mean_absolute_error(XGBOOST_prediction,y_test))\n",
    "print('Prophet MAE =', mean_absolute_error(prophet_future,test))\n",
    "print('SARIMAX MAE =',mean_absolute_error(sarimax_prediction,test))\n",
    "print('NN MAE =',mean_absolute_error(NN_prediction,test))"
   ]
  },
  {
   "cell_type": "markdown",
   "metadata": {},
   "source": [
    "Finally let us visualize the predictions of all 4 models. Note the autofmt_xdate method in matplotlib, it knows how to appropriately rotate the date labels on the x-axis."
   ]
  },
  {
   "cell_type": "code",
   "execution_count": 71,
   "metadata": {},
   "outputs": [
    {
     "data": {
      "text/plain": [
       "<Figure size 1440x1440 with 0 Axes>"
      ]
     },
     "metadata": {},
     "output_type": "display_data"
    },
    {
     "data": {
      "image/png": "[encoded data removed]",
      "text/plain": [
       "<Figure size 432x288 with 4 Axes>"
      ]
     },
     "metadata": {
      "needs_background": "light"
     },
     "output_type": "display_data"
    }
   ],
   "source": [
    "\n",
    "XGBOOST_df = pd.DataFrame({'y': XGBOOST_prediction.tolist()})\n",
    "XGBOOST_df.index = y_test.index\n",
    "\n",
    "NN_df = pd.DataFrame(NN_prediction)\n",
    "NN_df.index = y_test.index\n",
    "plt.figure(figsize=(20, 20))\n",
    "fig, axs = plt.subplots(2, 2)\n",
    "fig.suptitle('Compare SARIMAX, prophet, XGBOOST and NN')\n",
    "axs[0, 0].plot(dataset.tail(50))\n",
    "axs[0, 0].plot(sarimax_prediction.tail(50))\n",
    "axs[0, 0].set_title(\"SARIMAX\")\n",
    "axs[0, 1].plot(dataset.tail(50))\n",
    "axs[0, 1].plot(prophet_future.tail(50))\n",
    "axs[0, 1].set_title(\"Prophet\")\n",
    "axs[1, 0].plot(dataset.tail(50))\n",
    "axs[1, 0].plot(XGBOOST_df.tail(50))\n",
    "axs[1, 0].set_title(\"XGBOOST\")\n",
    "axs[1, 1].plot(dataset.tail(50))\n",
    "axs[1, 1].plot(NN_df.tail(50))\n",
    "axs[1, 1].set_title(\"NN\")\n",
    "\n",
    "for ax in fig.get_axes():\n",
    "    ax.label_outer()\n",
    "fig.autofmt_xdate()\n",
    "\n",
    "plt.savefig('Comparison',\n",
    "            bbox_inches='tight', transparent=False)"
   ]
  },
  {
   "cell_type": "code",
   "execution_count": null,
   "metadata": {},
   "outputs": [],
   "source": []
  }
 ],
 "metadata": {
  "kernelspec": {
   "display_name": "Python 3",
   "language": "python",
   "name": "python3"
  },
  "language_info": {
   "codemirror_mode": {
    "name": "ipython",
    "version": 3
   },
   "file_extension": ".py",
   "mimetype": "text/x-python",
   "name": "python",
   "nbconvert_exporter": "python",
   "pygments_lexer": "ipython3",
   "version": "3.6.9"
  }
 },
 "nbformat": 4,
 "nbformat_minor": 4
}
